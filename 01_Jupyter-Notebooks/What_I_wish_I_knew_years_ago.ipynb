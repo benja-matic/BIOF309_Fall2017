{
 "cells": [
  {
   "cell_type": "markdown",
   "metadata": {},
   "source": [
    "## Ben's \"What I wish I knew years ago\"\n",
    "\n",
    "Just a few humble suggestions I wish I had internalized when I started programming..."
   ]
  },
  {
   "cell_type": "markdown",
   "metadata": {},
   "source": [
    "* Nowadays, computer time is cheap, but human (i.e. YOUR) time is expensive. Wasting it is like throwing cash down the drain. \n",
    "* 99% = Failure. Code doesn't work until it's 100% correct. Progress is thresholded; all or nothing. Maximize threshold crossing.\n",
    "* Debugging, the process of getting from 99% to 100%, is your rate limiting factor. Good debugging --> cross threshold more --> get the most out of your time.\n",
    "* Modularize your code. Big programs are made up of small, reliable chunks.\n",
    "* Write pseudo-code, make maps, and draw pictures. External storage (i.e. paper) averts memory (i.e. working memory) bottlenecks, and solidifies your understanding.\n",
    "* Write the simplest code possible.\n",
    "* Learn to think like a computer. Codes are instructions. Ask yourself what you're asking the computer to do.\n",
    "* Use a style guide. Even if it’s your own made up style guide, be consistent. Keep a format that makes typos/bugs easy to spot.\n",
    "* Comment your code (following a consistent format).\n",
    "* Error rate is ~proportional to the number of lines of code you write (across languages). Concise code with helpful comments minimizes error rate.\n",
    "* Log your bugs, don’t repeat them. Write down every bug/anything that slows you down.\n",
    "* Now you have a checklist. Like a pilot before takeof, refer to it before running your code.\n",
    "* If something doens't work, consult the checklist instead of messing with your code aimlessly.\n",
    "* Don't waste time re-writing code for a problem you already solved. Put good codes in one place, so you've got good code on tap. This is your toolbox, and your codes are your tools.\n",
    "* Take pride in your toolbox. Keep it clean/organized so you don't waste time looking for the right tool (piece of code).\n",
    "* Coding is like playing with legos. You can build whatever you want. Use your imagination, be creative, be innovative. You have to be free to explore!\n"  
   ]
  },
 ],
 "metadata": {
  "kernelspec": {
   "display_name": "Python [conda root]",
   "language": "python",
   "name": "conda-root-py"
  },
  "language_info": {
   "codemirror_mode": {
    "name": "ipython",
    "version": 3
   },
   "file_extension": ".py",
   "mimetype": "text/x-python",
   "name": "python",
   "nbconvert_exporter": "python",
   "pygments_lexer": "ipython3",
   "version": "3.5.3"
  }
 },
 "nbformat": 4,
 "nbformat_minor": 2
}
